{
 "cells": [
  {
   "cell_type": "code",
   "execution_count": 1,
   "id": "beb0b78d-a3e3-4b8c-91fc-2b38d2593215",
   "metadata": {},
   "outputs": [],
   "source": [
    "#讀檔\n",
    "f = open('hw2_data.txt')"
   ]
  },
  {
   "cell_type": "code",
   "execution_count": 2,
   "id": "83281d73-0305-4bb6-9b09-86f2ac25600b",
   "metadata": {},
   "outputs": [],
   "source": [
    "#利用list處理txt檔\n",
    "text = []"
   ]
  },
  {
   "cell_type": "code",
   "execution_count": 3,
   "id": "51565465-be1e-4de0-9524-6cdd155b47de",
   "metadata": {},
   "outputs": [],
   "source": [
    "#將文字檔寫入list\n",
    "for line in f:\n",
    "    text.append(line)"
   ]
  },
  {
   "cell_type": "code",
   "execution_count": 4,
   "id": "a521274c-51a3-41d0-827d-b1e0bfb697c8",
   "metadata": {},
   "outputs": [
    {
     "data": {
      "text/plain": [
       "892"
      ]
     },
     "execution_count": 4,
     "metadata": {},
     "output_type": "execute_result"
    }
   ],
   "source": [
    "#計算列表數量\n",
    "len(text)"
   ]
  },
  {
   "cell_type": "code",
   "execution_count": 5,
   "id": "430384f9-ea1d-4e20-aa90-dbf87d688459",
   "metadata": {},
   "outputs": [],
   "source": [
    "dict={}"
   ]
  },
  {
   "cell_type": "code",
   "execution_count": 6,
   "id": "0ff80e3b-f76b-416a-bdc6-fae5e31645de",
   "metadata": {},
   "outputs": [],
   "source": [
    "#利用for迴圈查找這個詞彙有沒有存在hash\n",
    "#沒有的話就將這個詞彙（key）存進hash，並設定相對應數值為1\n",
    "#有的話就將相對應數值+1\n",
    "for i in range(0,891):\n",
    "    if text[i] not in dict:\n",
    "        dict[text[i]]=1\n",
    "    if text[i] in dict:\n",
    "        dict[text[i]]+=1"
   ]
  },
  {
   "cell_type": "code",
   "execution_count": 7,
   "id": "ce76607a-ada8-4075-befd-ee6b08e6cd17",
   "metadata": {},
   "outputs": [
    {
     "data": {
      "text/plain": [
       "{'Cheese\\n': 235,\n",
       " 'Pizza\\n': 84,\n",
       " 'Coke\\n': 145,\n",
       " 'Steak\\n': 47,\n",
       " 'Burger\\n': 197,\n",
       " 'Fries\\n': 77,\n",
       " 'Rib\\n': 34,\n",
       " 'Taco\\n': 58,\n",
       " 'Pho\\n': 20,\n",
       " 'Potato\\n': 4}"
      ]
     },
     "execution_count": 7,
     "metadata": {},
     "output_type": "execute_result"
    }
   ],
   "source": [
    "#印出結果\n",
    "dict"
   ]
  }
 ],
 "metadata": {
  "kernelspec": {
   "display_name": "Python 3 (ipykernel)",
   "language": "python",
   "name": "python3"
  },
  "language_info": {
   "codemirror_mode": {
    "name": "ipython",
    "version": 3
   },
   "file_extension": ".py",
   "mimetype": "text/x-python",
   "name": "python",
   "nbconvert_exporter": "python",
   "pygments_lexer": "ipython3",
   "version": "3.9.7"
  }
 },
 "nbformat": 4,
 "nbformat_minor": 5
}
